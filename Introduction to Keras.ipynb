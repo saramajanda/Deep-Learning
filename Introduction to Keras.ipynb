{
 "cells": [
  {
   "cell_type": "markdown",
   "metadata": {},
   "source": [
    "<a id='intro_keras'></a>\n",
    "#  Keras Introduction \n",
    "\n",
    "First of all, let's see how we can create, train, evaluate and use models in [Keras](https://keras.io/api/models/). We will divide the process into the following steps:\n",
    "\n",
    "- **Definition** of the model\n",
    "- **Compilation** of the model\n",
    "- **Training** of the model\n",
    "- **Evaluation** of the model\n",
    "- Make **predictions**\n",
    "\n",
    "<a id='definition'></a>\n",
    "## 1. Model definition\n",
    "\n",
    "To define the architecture of the network. That is, number of layers, type of each layer, number of neurons per layer, activation function per layer, ...\n",
    "\n",
    "There are [three ways to create models with Keras](https://keras.io/api/models/):\n",
    "- **Sequencial Model**\n",
    "- **Functional API**\n",
    "- **Model Subclassing**\n",
    "\n",
    "As we have studied, the simplest neural networks are made up of sequentially connected layers where the output of each layer is connected to the input of the next layer, from the input layer to the output layer. In these cases, it will be essential that there is only one input layer and one output layer. For this type of model it is possible and sufficient to use the **[Sequential API of Keras](https://keras.io/guides/sequential_model/)**.\n",
    "\n",
    "For models with non-sequential topology, where feedback loops may exist, may have multiple inputs and/or outputs, or may shared layers, it is necessary to rigorously define the connections between layers. For these cases it will be necessary to use  the **[Functional API of Keras](https://keras.io/guides/functional_api/)**.\n",
    "\n",
    "**By default, the weights and biases of each neuron are assigned randomly. During training, these values vary in order to minimize the selected cost function.**\n",
    "\n",
    "\n",
    "Fully connected layers are defined using the [Dense](https://www.tensorflow.org/api_docs/python/tf/keras/layers/Dense) class. We can specify the number of neurons as the first argument, and specify the activation function using the activation argument.\n",
    "\n",
    "```python\n",
    "tf.keras.layers.Dense(\n",
    "    units, activation=None\n",
    ")\n",
    "\n",
    "```\n",
    "\n",
    "- **units**: Number of neurons in the layer.\n",
    "- **activation**: Activation function to use, default function is `linear`, you can also use `sigmoid` for sigmoid activation or [other alternatives](https://www.tensorflow.org/api_docs/python/tf/keras/activations) \n",
    "\n",
    "For defining the input layer you can use `keras.Input(shape=(input_dimension,))` or define your input dimension in the first hidden layer.\n",
    "\n",
    "```python\n",
    "layers.Dense(4, activation=\"sigmoid\", input_shape=(input_dimension,))\n",
    "\n",
    "```\n",
    "\n",
    "Below are examples of sequential and functional types taking as reference a network made up of:\n",
    "\n",
    "- One **input with 8 features (input_shape)**\n",
    "- **Two hidden dense layers**, both with **4 neurons** and implemented with  **sigmoid activating function**\n",
    "- **One Output** (linear output activation function)\n",
    "\n",
    "\n",
    "\n",
    "\n",
    "\n",
    "\n",
    "\n",
    "### Sequential Model\n",
    "```python\n",
    "    import tensorflow as tf\n",
    "    from tensorflow import keras\n",
    "    from tensorflow.keras import layers\n",
    "\n",
    "    model = keras.Sequential(\n",
    "        [\n",
    "            keras.Input(shape=(8,)),\n",
    "            layers.Dense(4, activation='sigmoid', name='layer1'),\n",
    "            layers.Dense(4, activation='sigmoid', name='layer2'),\n",
    "            layers.Dense(1, name='layer3')\n",
    "        ]\n",
    "    )\n",
    "```\n",
    "\n",
    "Similarly, it is also possible to define a sequential model incrementally with the method `add()`:\n",
    "```python\n",
    "    model = keras.Sequential()\n",
    "    model.add(keras.Input(shape=(8,)))\n",
    "    model.add(layers.Dense(4, activation='sigmoid', name='layer_1'))\n",
    "    model.add(layers.Dense(4, activation='sigmoid', name='layer_2'))\n",
    "    model.add(layers.Dense(1, name='output_layer'))\n",
    "```\n",
    "    \n",
    "    \n",
    "A possible alternative to include the object `Input` at the beginning of the network is to define in the first layer the dimension of the input data using the parameter `input_shape`:\n",
    "```python\n",
    "    model = keras.Sequential()\n",
    "    model.add(layers.Dense(4, activation='sigmoid', input_shape=(8,), name='layer_1'))\n",
    "    model.add(layers.Dense(4, activation='sigmoid', name='layer_2'))\n",
    "    model.add(layers.Dense(1, name='output_layer'))\n",
    "```\n",
    "    \n",
    "Despite being a simple and fast way to build simple models, it would not be appropriate to use it in the following situations:\n",
    "\n",
    "- The model has multiple inputs and/or outputs\n",
    "- Some of the layers have multiple inputs and/or outputs\n",
    "- Some of the layers is shared\n",
    "- The network topology is non-linear\n",
    "\n",
    "### Functional API\n",
    "\n",
    "The Keras Functional API allows defining the topology of the models as a [acyclic directed graph](https://en.wikipedia.org/wiki/Directed_acyclic_graph) of layers. Next we will build the same model as in the previous section but using the Keras Functional API.\n",
    "\n",
    "You need to start with an input data entry:\n",
    "```python    \n",
    "    inputs = keras.Input(shape=(8,))\n",
    "```\n",
    "    \n",
    "We define the layers that we will include in the network and the relationships between them. It is important to note that each line details the type of layer and its properties (number of neurons, activation function, name ...) and just at the end, in parentheses, the name of the variable in which we have saved the layer from which its output will connect to the input of the layer we are declaring.\n",
    "```python\n",
    "layer_1 = layers.Dense(4, activation='sigmoid',\n",
    "                       name='layer_1')(inputs)\n",
    "layer_2 = layers.Dense(4, activation='sigmoid',\n",
    "                       name='layer_2')(layer_1)\n",
    "```\n",
    "\n",
    "The \"layer call\" `Dense()(inputs)` action is like drawing an arrow from \"inputs\" to this layer you created. You're \"passing\" the inputs to the dense layer, and you get `layer_1` as the output.\n",
    "\n",
    "  \n",
    "\n",
    "Finally, we define the network outputs:\n",
    "```python\n",
    "outputs = layers.Dense(1, name='output_layer')(layer_2)\n",
    "```\n",
    "\n",
    "We create the model specifying the inputs and outputs:\n",
    "```python\n",
    "model = keras.Model(inputs=inputs, outputs=outputs)\n",
    "```\n",
    "\n",
    "For printing  a summary of the network we can use:\n",
    "```python\n",
    "model.summary()\n",
    "```\n",
    "\n"
   ]
  },
  {
   "cell_type": "markdown",
   "metadata": {},
   "source": [
    "## Examples"
   ]
  },
  {
   "cell_type": "markdown",
   "metadata": {},
   "source": [
    "Requirements:\n",
    "\n",
    "- numpy\n",
    "- pandas\n",
    "- scikit-learn\n",
    "- matplotlib\n",
    "- tensorflow"
   ]
  },
  {
   "cell_type": "code",
   "execution_count": 1,
   "metadata": {},
   "outputs": [],
   "source": [
    "import tensorflow as tf\n",
    "from tensorflow import keras\n",
    "from tensorflow.keras import layers\n",
    "import numpy as np"
   ]
  },
  {
   "cell_type": "markdown",
   "metadata": {},
   "source": [
    "Check TensorFlow version > 2"
   ]
  },
  {
   "cell_type": "code",
   "execution_count": 2,
   "metadata": {},
   "outputs": [
    {
     "name": "stdout",
     "output_type": "stream",
     "text": [
      "2.4.0\n"
     ]
    }
   ],
   "source": [
    "print(tf.__version__)"
   ]
  },
  {
   "cell_type": "markdown",
   "metadata": {},
   "source": [
    "### Sequential Model Example\n"
   ]
  },
  {
   "cell_type": "code",
   "execution_count": 3,
   "metadata": {
    "scrolled": true
   },
   "outputs": [
    {
     "name": "stdout",
     "output_type": "stream",
     "text": [
      "Model: \"example_model\"\n",
      "_________________________________________________________________\n",
      "Layer (type)                 Output Shape              Param #   \n",
      "=================================================================\n",
      "layer_1 (Dense)              (None, 4)                 36        \n",
      "_________________________________________________________________\n",
      "layer_2 (Dense)              (None, 4)                 20        \n",
      "_________________________________________________________________\n",
      "output_layer (Dense)         (None, 1)                 5         \n",
      "=================================================================\n",
      "Total params: 61\n",
      "Trainable params: 61\n",
      "Non-trainable params: 0\n",
      "_________________________________________________________________\n"
     ]
    }
   ],
   "source": [
    "model = keras.Sequential(name='example_model')\n",
    "model.add(layers.Dense(4, activation='relu', input_shape=(8,), name='layer_1'))\n",
    "model.add(layers.Dense(4, activation='relu', name='layer_2'))\n",
    "model.add(layers.Dense(1, name='output_layer'))\n",
    "\n",
    "model.summary()"
   ]
  },
  {
   "cell_type": "markdown",
   "metadata": {},
   "source": [
    "\n",
    "The first weights matrix connects the input layer (8 dimensions) and the first hidden layer (4 neurons), 8*4 weights + 4 bias = 36 params.\n",
    "\n",
    "The second weights matrix connects the first hidden layer (4 neurons) and the second hidden layer (4 neurons), 4*4 weights + 4 bias = 20 params.\n",
    "\n",
    "The last weight matrix connects the second hidden layer (4 neurons) with the output layer (1 neuron), 4*1 weights + 1 bias = 5 params."
   ]
  },
  {
   "cell_type": "markdown",
   "metadata": {},
   "source": [
    "### Funnctional API Example"
   ]
  },
  {
   "cell_type": "code",
   "execution_count": 4,
   "metadata": {
    "scrolled": true
   },
   "outputs": [
    {
     "name": "stdout",
     "output_type": "stream",
     "text": [
      "Model: \"example_model\"\n",
      "_________________________________________________________________\n",
      "Layer (type)                 Output Shape              Param #   \n",
      "=================================================================\n",
      "input_layer (InputLayer)     [(None, 8)]               0         \n",
      "_________________________________________________________________\n",
      "layer_1 (Dense)              (None, 4)                 36        \n",
      "_________________________________________________________________\n",
      "layer_2 (Dense)              (None, 4)                 20        \n",
      "_________________________________________________________________\n",
      "output_layer (Dense)         (None, 1)                 5         \n",
      "=================================================================\n",
      "Total params: 61\n",
      "Trainable params: 61\n",
      "Non-trainable params: 0\n",
      "_________________________________________________________________\n"
     ]
    }
   ],
   "source": [
    "inputs = keras.Input(shape=(8,), name='input_layer')\n",
    "l_1 = layers.Dense(4, activation='sigmoid', name='layer_1')(inputs)\n",
    "l_2 = layers.Dense(4, activation='sigmoid', name='layer_2')(l_1)    \n",
    "outputs = layers.Dense(1, name='output_layer')(l_2)\n",
    "model = keras.Model(inputs=inputs, outputs=outputs, name='example_model')\n",
    "\n",
    "model.summary()"
   ]
  },
  {
   "cell_type": "markdown",
   "metadata": {},
   "source": [
    "We can visualize the network with [`plot_model`](https://www.tensorflow.org/api_docs/python/tf/keras/utils/plot_model)\n",
    "```python\n",
    "tf.keras.utils.plot_model(\n",
    "    model, to_file='model.png', show_shapes=False,\n",
    "    show_dtype=False, show_layer_names=True\n",
    ")\n",
    "```"
   ]
  },
  {
   "cell_type": "code",
   "execution_count": 5,
   "metadata": {},
   "outputs": [
    {
     "data": {
      "image/png": "[encoded data removed]",
      "text/plain": [
       "<IPython.core.display.Image object>"
      ]
     },
     "execution_count": 5,
     "metadata": {},
     "output_type": "execute_result"
    }
   ],
   "source": [
    "from tensorflow.keras.utils import plot_model\n",
    "plot_model(model, show_shapes=True)"
   ]
  },
  {
   "cell_type": "markdown",
   "metadata": {},
   "source": [
    "<a id='info_layers'></a>\n",
    "The information and properties of each layer included in the model can be accessed as follows:"
   ]
  },
  {
   "cell_type": "code",
   "execution_count": 6,
   "metadata": {},
   "outputs": [
    {
     "data": {
      "text/plain": [
       "[<tensorflow.python.keras.engine.input_layer.InputLayer at 0x7faebfc04da0>,\n",
       " <tensorflow.python.keras.layers.core.Dense at 0x7faebfc04e10>,\n",
       " <tensorflow.python.keras.layers.core.Dense at 0x7faebfc11a58>,\n",
       " <tensorflow.python.keras.layers.core.Dense at 0x7faebfc11e10>]"
      ]
     },
     "execution_count": 6,
     "metadata": {},
     "output_type": "execute_result"
    }
   ],
   "source": [
    "model.layers"
   ]
  },
  {
   "cell_type": "markdown",
   "metadata": {},
   "source": [
    "As mentioned in the previous section, the values of the weights are assigned randomly. That is, if we recreate the same model and visualize the weights, they will be different each time.\n",
    "\n",
    "We can access them by calling, **in the choosen layer**, the method `get_weights()`. This method returns the weights and biases.\n",
    "\n",
    "It is important to know that the dimension of both results (weights and biases) is **number_of_neurons_in_previous_layer x number_of_neurons_in_the_layer**\n",
    "    \n",
    "In the following example we visualize the weights and biases of the first hidden layer. Since there 8 values in the previous layer (input dimension) and the layer has 4 neurons, the dimension of the variable\n",
    "`weights` will be (8, 4).\n",
    "\n",
    "This means that, for the layer where we obtain the weights:\n",
    "\n",
    "    weights[0][0] corresponds to the weight that the first neuron of the input  layer gives to the first neuron of the first hidden layer\n",
    "    weights[1][0] corresponds to the weight that the second neuron of the input  layer gives to the first neuron of the first hidden layer\n",
    "    weights[2][0] corresponds to the weight that the third neuron of the input  layer gives to the first neuron of the first hidden layer\n",
    "    ...\n",
    "    weights[0][1] corresponds to the weight that the first neuron of the input  layer gives to the second neuron of the first hidden layer\n",
    "    weights[0][2] corresponds to the weight that the first neuron of the input  layer gives to the third neuron of the first hidden layer\n",
    "    weights[0][3] corresponds to the weight that the first neuron of the input  layer gives to the fourth neuron of the first hidden layer\n",
    "    ...\n",
    "    weights[7][3] corresponds to the weight that the last neuron of the layer gives to the last input\n",
    "    \n",
    "**Simplified**:\n",
    "\n",
    "    weights[i][j]  corresponds to the weight that the i-neuron of the layer gives to the j-input\n",
    "    \n",
    "The variable `biases` dimension will be  (4,), one bias by neuron."
   ]
  },
  {
   "cell_type": "code",
   "execution_count": 7,
   "metadata": {},
   "outputs": [],
   "source": [
    "weights, biases = model.layers[1].get_weights()"
   ]
  },
  {
   "cell_type": "code",
   "execution_count": 8,
   "metadata": {},
   "outputs": [
    {
     "data": {
      "text/plain": [
       "(8, 4)"
      ]
     },
     "execution_count": 8,
     "metadata": {},
     "output_type": "execute_result"
    }
   ],
   "source": [
    "weights.shape"
   ]
  },
  {
   "cell_type": "code",
   "execution_count": 9,
   "metadata": {},
   "outputs": [
    {
     "data": {
      "text/plain": [
       "(4,)"
      ]
     },
     "execution_count": 9,
     "metadata": {},
     "output_type": "execute_result"
    }
   ],
   "source": [
    "biases.shape"
   ]
  },
  {
   "cell_type": "code",
   "execution_count": 10,
   "metadata": {
    "scrolled": true
   },
   "outputs": [
    {
     "name": "stdout",
     "output_type": "stream",
     "text": [
      "Weights of first hidden layer:\n",
      "[[ 0.39480036 -0.63766193 -0.05382407  0.3189817 ]\n",
      " [-0.42321184 -0.30371776 -0.1413027  -0.47936797]\n",
      " [ 0.27441406  0.13023257  0.4041323   0.56149346]\n",
      " [ 0.51600367  0.00953531 -0.36351994 -0.45721155]\n",
      " [-0.6977456  -0.42602995 -0.17820698  0.5391293 ]\n",
      " [ 0.30644566 -0.39847618  0.3243454   0.5953111 ]\n",
      " [-0.3634358   0.353082   -0.16162336  0.62267584]\n",
      " [-0.33512846  0.09950733  0.06153357 -0.5654168 ]]\n"
     ]
    }
   ],
   "source": [
    "print(\"Weights of first hidden layer:\\n{}\".format(weights))"
   ]
  },
  {
   "cell_type": "code",
   "execution_count": 11,
   "metadata": {
    "scrolled": true
   },
   "outputs": [
    {
     "name": "stdout",
     "output_type": "stream",
     "text": [
      "Biases of first hidden layer:\n",
      "[0. 0. 0. 0.]\n"
     ]
    }
   ],
   "source": [
    "print(\"Biases of first hidden layer:\\n{}\".format(biases))"
   ]
  },
  {
   "cell_type": "markdown",
   "metadata": {},
   "source": [
    "#### Feature extraction\n",
    "\n",
    "Every layer has an `input` and `output` attribute. These attributes can be used to extract the outputs of all intermediate layers.\n"
   ]
  },
  {
   "cell_type": "code",
   "execution_count": 12,
   "metadata": {},
   "outputs": [],
   "source": [
    "features_list = [layer.output for layer in model.layers]\n",
    "# Use these features to create feature-extraction model\n",
    "# that returns the values of the intermediate layer activations:\n",
    "feat_extraction = keras.Model(inputs=model.input, outputs=features_list)"
   ]
  },
  {
   "cell_type": "code",
   "execution_count": 13,
   "metadata": {
    "scrolled": true
   },
   "outputs": [
    {
     "name": "stdout",
     "output_type": "stream",
     "text": [
      "input:  tf.Tensor([[1. 1. 1. 1. 1. 1. 1. 1.]], shape=(1, 8), dtype=float32)\n",
      "Layer 0 activations [[1. 1. 1. 1. 1. 1. 1. 1.]]\n",
      "Layer 1 activations [[0.4187619  0.23621774 0.4729101  0.75687   ]]\n",
      "Layer 2 activations [[0.5551595  0.49518558 0.42835253 0.6202408 ]]\n",
      "Layer 3 activations [[-0.3528573]]\n",
      "model predictiion [[-0.3528573]]\n"
     ]
    }
   ],
   "source": [
    "# Call feature extractor on test input.\n",
    "x = tf.ones((1,8))\n",
    "print('input: ', x)\n",
    "features = feat_extraction(x)\n",
    "for i,out in enumerate(features):\n",
    "    print('Layer {0} activations {1}'.format(i,out))\n",
    "    \n",
    "print('model predictiion', model.predict(x))"
   ]
  },
  {
   "cell_type": "code",
   "execution_count": 14,
   "metadata": {},
   "outputs": [
    {
     "name": "stdout",
     "output_type": "stream",
     "text": [
      "activation_1:  [[0.41876188 0.23621774 0.4729101  0.75687   ]]\n"
     ]
    }
   ],
   "source": [
    "def sigmoid(x):\n",
    "    return 1 / (1 + np.exp(-x))\n",
    "activation_1 = sigmoid(x.numpy().dot(weights)+biases)\n",
    "\n",
    "print('activation_1: ', activation_1)"
   ]
  },
  {
   "attachments": {
    "logistic.png": {
     "image/png": "[encoded data removed]"
    }
   },
   "cell_type": "markdown",
   "metadata": {},
   "source": [
    "### Class Example\n",
    "![logistic.png](attachment:logistic.png)"
   ]
  },
  {
   "cell_type": "code",
   "execution_count": 15,
   "metadata": {},
   "outputs": [
    {
     "name": "stdout",
     "output_type": "stream",
     "text": [
      "Model: \"example_model\"\n",
      "_________________________________________________________________\n",
      "Layer (type)                 Output Shape              Param #   \n",
      "=================================================================\n",
      "ouput (Dense)                (None, 1)                 3         \n",
      "=================================================================\n",
      "Total params: 3\n",
      "Trainable params: 3\n",
      "Non-trainable params: 0\n",
      "_________________________________________________________________\n"
     ]
    }
   ],
   "source": [
    "model = keras.Sequential(name='example_model')\n",
    "model.add(\n",
    "    layers.Dense(1, activation='sigmoid',\n",
    "                 input_shape=(2, ), name='ouput'))\n",
    "model.summary()"
   ]
  },
  {
   "cell_type": "code",
   "execution_count": 16,
   "metadata": {},
   "outputs": [
    {
     "data": {
      "image/png": "[encoded data removed]",
      "text/plain": [
       "<IPython.core.display.Image object>"
      ]
     },
     "execution_count": 16,
     "metadata": {},
     "output_type": "execute_result"
    }
   ],
   "source": [
    "plot_model(model, show_shapes=True)"
   ]
  },
  {
   "cell_type": "code",
   "execution_count": 17,
   "metadata": {},
   "outputs": [
    {
     "name": "stdout",
     "output_type": "stream",
     "text": [
      "Layers:  [<tensorflow.python.keras.layers.core.Dense object at 0x7faebfc5c048>]\n",
      "Weights:[[-0.22941029]\n",
      " [-1.2790561 ]] , shape:(2, 1)\n",
      "Biases:[0.] , shape:(1,)\n"
     ]
    }
   ],
   "source": [
    "## See the weights\n",
    "print('Layers: ', model.layers)\n",
    "W, b = model.layers[0].get_weights()\n",
    "print('Weights:{0} , shape:{1}'.format(W, W.shape))\n",
    "print('Biases:{0} , shape:{1}'.format(b, b.shape))"
   ]
  },
  {
   "cell_type": "markdown",
   "metadata": {},
   "source": [
    "We can change the weights with `set_weights`:"
   ]
  },
  {
   "cell_type": "code",
   "execution_count": 18,
   "metadata": {},
   "outputs": [
    {
     "data": {
      "text/plain": [
       "[array([[ 1.],\n",
       "        [-1.]], dtype=float32),\n",
       " array([-1.], dtype=float32)]"
      ]
     },
     "execution_count": 18,
     "metadata": {},
     "output_type": "execute_result"
    }
   ],
   "source": [
    "W_new = np.array([[1], [-1]], dtype=np.float32)\n",
    "b_new = np.array([-1])\n",
    "# Change the weights manually\n",
    "model.layers[0].set_weights([W_new, b_new])\n",
    "# New Network weights\n",
    "model.layers[0].get_weights()"
   ]
  },
  {
   "cell_type": "code",
   "execution_count": 19,
   "metadata": {},
   "outputs": [
    {
     "data": {
      "text/plain": [
       "(array([[0.5]], dtype=float32), 0.5)"
      ]
     },
     "execution_count": 19,
     "metadata": {},
     "output_type": "execute_result"
    }
   ],
   "source": [
    "# Output\n",
    "def sigmoid(x):\n",
    "    return 1 / (1 + np.exp(-x))\n",
    "point = np.array([[-1, -2]])\n",
    "model.predict(point), sigmoid(point[0][0]-point[0][1]-1)"
   ]
  },
  {
   "cell_type": "markdown",
   "metadata": {},
   "source": [
    "<a id='compilacion'></a>\n",
    "## 2. Model Compilation\n",
    "\n",
    "Once the network architecture has been defined, it is necessary to define the **training configuration**. To do this, we use the `compile()` method of  de Keras ([link to documentation](https://keras.io/api/models/model_training_apis/#compile-method)).\n",
    "\n",
    "Some of the parameters that we can define are the following:\n",
    "\n",
    "- **optimizers**: allows selecting the algorithm used to solve the gradient descent problem during network training [1].\n",
    "- **loss**: allows defining the loss function to be used during model training [2].\n",
    "- **metrics**: allows you to define a function to measure the performance of the model. Keras implements [3] the calculation of a multitude of metrics for different purposes.\n",
    "\n",
    "The syntax is the following:\n",
    "```python\n",
    "    model.compile(\n",
    "        optimizer=...,# tf.keras.optimizers.Adam()\n",
    "        loss=...,# tf.keras.losses.SparseCategoricalCrossEntropy()\n",
    "        metrics=...# tf.keras.metrics.SparseCategoricalAccuracy()\n",
    "    )\n",
    "```\n",
    "\n",
    "In addition to directly calling the corresponding classes (`tfk.keras.optimizers`,` tf.keras.losses` and `tf.keras.metrics`), it is also possible to assign an alias (` 'mse'` is equivalent to ` tf.keras.losses.MSE`).\n",
    "\n",
    "Links:\n",
    "* [1] *Optimizers*: https://keras.io/api/optimizers/\n",
    "    \n",
    "* [2] *Losses*: https://keras.io/api/losses/\n",
    "    1. Regression Losses:\n",
    "        * Mean squared error: `tf.keras.losses.MeanSquaredError()`\n",
    "        * Mean absolute error: `tf.keras.losses.MeanAbsoluteError()`\n",
    "    2. Classification losses:\n",
    "        * Binary cross-entropy: `tf.keras.losses.BinaryCrossentropy`\n",
    "        * Categorical  cross-entropy:`tf.keras.losses.CategoricalCrossentropy`\n",
    "        * Sparse categorical  cross-entropy:`tf.keras.losses.SparseCategoricalCrossentropy`\n",
    "        \n",
    "* [3] *Metrics*: https://keras.io/api/metrics/\n",
    "    You can use same functions as  losses, but changing `tf.keras.losses.x` to `tf.keras.metrics.x` or use others like *Accuracy* for classification tasks `tf.keras.metrics.Accuracy`\n",
    "    \n",
    "For example,\n",
    "\n",
    "```python\n",
    "model.compile(\n",
    "    optimizer='adam',\n",
    "    loss='categorical_crossentropy',\n",
    "    metrics=['accuracy']\n",
    ")\n",
    "```\n",
    "\n",
    "is the same as:\n",
    "\n",
    "```python\n",
    "model.compile(\n",
    "    optimizer=tf.keras.optimizers.Adam(),\n",
    "    loss=tf.keras.losses.CategoricalCrossentropy(),\n",
    "    metrics=['accuracy']\n",
    ")\n",
    "```"
   ]
  },
  {
   "cell_type": "markdown",
   "metadata": {},
   "source": [
    "<a id='entrenamiento'></a>\n",
    "## 3. Model training\n",
    "\n",
    "Similar to training classical machine learning models, Keras implements a `fit ()` method.\n",
    "\n",
    "Various parameters can be configured (more information in the [documentation](https://keras.io/api/models/model_training_apis/#fit-method) ). Among other parameters, and for the scope of this exercise, we will focus on:\n",
    "\n",
    "- **x**: Input data.\n",
    "- **y**: target.\n",
    "- **batch_size**: number of samples used in each gradient update. Default 32.\n",
    "- **epochs**: Number of epochs to train the model. An epoch is a complete iteration over all the data used as input (`x` and` y`).\n",
    "- **validation_split**: fraction of the training data to be used as the validation set. Real value between 0 and 1.\n",
    "- **verbose**: 0, 1 or 2. Allows you to configure the amount and format of the information displayed during training.\n",
    "\n",
    "\n",
    "The `fit ()` method returns a `History` object that stores the values of the cost function and the chosen metrics during all training periods, both for the training and validation sets.\n",
    "\n",
    "Example:\n",
    "```python\n",
    "    history = model.fit(X_train, y_train, epochs=20, validation_split=0.2, batch_size=32, verbose=1)\n",
    "```"
   ]
  },
  {
   "cell_type": "markdown",
   "metadata": {},
   "source": [
    "<a id='evaluacion'></a>\n",
    "## 4. Model Evaluation\n",
    "\n",
    "The Keras `evaluate()` method returns, for a test data set, the values for the cost function and the selected metrics. The calculation is done in batches of size 32 by default. [Documentation](https://keras.io/api/models/model_training_apis/#evaluate-method).\n",
    "\n",
    "Example:\n",
    "```python\n",
    "    results = model.evaluate(X_test, y_test, verbose=1)\n",
    "```\n"
   ]
  },
  {
   "cell_type": "markdown",
   "metadata": {},
   "source": [
    "<a id='prediccion'></a>\n",
    "## 5. Making Predictions\n",
    "\n",
    "Once the model has been built, trained and evaluated, we can make predictions with the `predict()` method ([link](https://keras.io/api/models/model_training_apis/#predict-method)).\n",
    "\n",
    "Like the `fit()` and `evaluate()` methods, the computation is performed on *batches* of dimension 32 by default.\n",
    "\n",
    "Example:\n",
    "\n",
    "    preds = model.predict(X_test)"
   ]
  },
  {
   "cell_type": "markdown",
   "metadata": {},
   "source": [
    "<a id='proceso_completo'></a>\n",
    "# Complete process\n",
    "\n",
    "Let's see the entire process in an example:"
   ]
  },
  {
   "cell_type": "markdown",
   "metadata": {},
   "source": [
    "We load the Iris dataset for a multiclass classification problem."
   ]
  },
  {
   "cell_type": "code",
   "execution_count": 20,
   "metadata": {},
   "outputs": [
    {
     "data": {
      "text/html": [
       "<div>\n",
       "<style scoped>\n",
       "    .dataframe tbody tr th:only-of-type {\n",
       "        vertical-align: middle;\n",
       "    }\n",
       "\n",
       "    .dataframe tbody tr th {\n",
       "        vertical-align: top;\n",
       "    }\n",
       "\n",
       "    .dataframe thead th {\n",
       "        text-align: right;\n",
       "    }\n",
       "</style>\n",
       "<table border=\"1\" class=\"dataframe\">\n",
       "  <thead>\n",
       "    <tr style=\"text-align: right;\">\n",
       "      <th></th>\n",
       "      <th>sepal length (cm)</th>\n",
       "      <th>sepal width (cm)</th>\n",
       "      <th>petal length (cm)</th>\n",
       "      <th>petal width (cm)</th>\n",
       "      <th>target</th>\n",
       "    </tr>\n",
       "  </thead>\n",
       "  <tbody>\n",
       "    <tr>\n",
       "      <th>0</th>\n",
       "      <td>5.1</td>\n",
       "      <td>3.5</td>\n",
       "      <td>1.4</td>\n",
       "      <td>0.2</td>\n",
       "      <td>0.0</td>\n",
       "    </tr>\n",
       "    <tr>\n",
       "      <th>1</th>\n",
       "      <td>4.9</td>\n",
       "      <td>3.0</td>\n",
       "      <td>1.4</td>\n",
       "      <td>0.2</td>\n",
       "      <td>0.0</td>\n",
       "    </tr>\n",
       "    <tr>\n",
       "      <th>2</th>\n",
       "      <td>4.7</td>\n",
       "      <td>3.2</td>\n",
       "      <td>1.3</td>\n",
       "      <td>0.2</td>\n",
       "      <td>0.0</td>\n",
       "    </tr>\n",
       "    <tr>\n",
       "      <th>3</th>\n",
       "      <td>4.6</td>\n",
       "      <td>3.1</td>\n",
       "      <td>1.5</td>\n",
       "      <td>0.2</td>\n",
       "      <td>0.0</td>\n",
       "    </tr>\n",
       "    <tr>\n",
       "      <th>4</th>\n",
       "      <td>5.0</td>\n",
       "      <td>3.6</td>\n",
       "      <td>1.4</td>\n",
       "      <td>0.2</td>\n",
       "      <td>0.0</td>\n",
       "    </tr>\n",
       "  </tbody>\n",
       "</table>\n",
       "</div>"
      ],
      "text/plain": [
       "   sepal length (cm)  sepal width (cm)  petal length (cm)  petal width (cm)  \\\n",
       "0                5.1               3.5                1.4               0.2   \n",
       "1                4.9               3.0                1.4               0.2   \n",
       "2                4.7               3.2                1.3               0.2   \n",
       "3                4.6               3.1                1.5               0.2   \n",
       "4                5.0               3.6                1.4               0.2   \n",
       "\n",
       "   target  \n",
       "0     0.0  \n",
       "1     0.0  \n",
       "2     0.0  \n",
       "3     0.0  \n",
       "4     0.0  "
      ]
     },
     "execution_count": 20,
     "metadata": {},
     "output_type": "execute_result"
    }
   ],
   "source": [
    "import numpy as np\n",
    "import pandas as pd\n",
    "from sklearn import datasets\n",
    "\n",
    "iris = datasets.load_iris()\n",
    "data = pd.DataFrame(\n",
    "    data=np.c_[\n",
    "        iris['data'],\n",
    "        iris['target']\n",
    "    ],\n",
    "    columns=iris['feature_names']+['target']\n",
    ")\n",
    "\n",
    "data.head()"
   ]
  },
  {
   "cell_type": "code",
   "execution_count": 21,
   "metadata": {},
   "outputs": [],
   "source": [
    "X = data.iloc[:,0:4].values\n",
    "y = data.iloc[:,4].values"
   ]
  },
  {
   "cell_type": "markdown",
   "metadata": {},
   "source": [
    "Target processing"
   ]
  },
  {
   "cell_type": "code",
   "execution_count": 22,
   "metadata": {},
   "outputs": [],
   "source": [
    "num_classes = 3\n",
    "Y = tf.keras.utils.to_categorical(y, num_classes)"
   ]
  },
  {
   "cell_type": "markdown",
   "metadata": {},
   "source": [
    "train/test split:"
   ]
  },
  {
   "cell_type": "code",
   "execution_count": 23,
   "metadata": {},
   "outputs": [],
   "source": [
    "from sklearn.model_selection import train_test_split\n",
    "\n",
    "X_train, X_test, y_train, y_test = train_test_split(\n",
    "    X,\n",
    "    Y,\n",
    "    test_size=0.2,\n",
    "    random_state=0\n",
    ")"
   ]
  },
  {
   "cell_type": "markdown",
   "metadata": {},
   "source": [
    "We define the architecture.\n",
    "\n",
    "- The input will have a dimension equal to the number of independent variables.\n",
    "- The output layer, being a multiclass classification problem, will be composed of as many neurons as there are different classes in the target variable. In this case there are three (setosa, virginica and versicolor). In addition, the activation function will be the [softmax](https://keras.io/api/layers/activations/#softmax-function) function  that will return the probability of belonging to each class. That is, the first neuron will return the probability of belonging to class 0, the second neuron to class 1 and the third to class 2.\n",
    "- Two hidden layers with 16 units each are included and [sigmoid](https://keras.io/api/layers/activations/#sigmoid-function) as activation function. The decision to include these layers in such a configuration is completely arbitrary."
   ]
  },
  {
   "cell_type": "code",
   "execution_count": 24,
   "metadata": {},
   "outputs": [],
   "source": [
    "import tensorflow as tf\n",
    "from tensorflow import keras\n",
    "from tensorflow.keras import layers\n",
    "\n",
    "inputs = tf.keras.Input(shape=(4,), name='input_layer')  # input\n",
    "\n",
    "l_1 = layers.Dense(16, activation='sigmoid', name='layer_1')(inputs)  # hidden layer 1\n",
    "l_2 = layers.Dense(16, activation='sigmoid', name='layer_2')(l_1)  # hidden layer 2\n",
    "\n",
    "outputs = layers.Dense(3, activation='softmax', name='output_layer')(l_2)  # ouputs\n",
    "\n",
    "model = keras.Model(inputs=inputs, outputs=outputs, name='example_model')  # Make the model"
   ]
  },
  {
   "cell_type": "markdown",
   "metadata": {},
   "source": [
    "Check the model"
   ]
  },
  {
   "cell_type": "code",
   "execution_count": 25,
   "metadata": {},
   "outputs": [
    {
     "name": "stdout",
     "output_type": "stream",
     "text": [
      "Model: \"example_model\"\n",
      "_________________________________________________________________\n",
      "Layer (type)                 Output Shape              Param #   \n",
      "=================================================================\n",
      "input_layer (InputLayer)     [(None, 4)]               0         \n",
      "_________________________________________________________________\n",
      "layer_1 (Dense)              (None, 16)                80        \n",
      "_________________________________________________________________\n",
      "layer_2 (Dense)              (None, 16)                272       \n",
      "_________________________________________________________________\n",
      "output_layer (Dense)         (None, 3)                 51        \n",
      "=================================================================\n",
      "Total params: 403\n",
      "Trainable params: 403\n",
      "Non-trainable params: 0\n",
      "_________________________________________________________________\n"
     ]
    }
   ],
   "source": [
    "model.summary()"
   ]
  },
  {
   "cell_type": "markdown",
   "metadata": {},
   "source": [
    "**Compile** the model"
   ]
  },
  {
   "cell_type": "code",
   "execution_count": 26,
   "metadata": {},
   "outputs": [],
   "source": [
    "model.compile(\n",
    "    optimizer='adam',\n",
    "    loss='categorical_crossentropy',\n",
    "    metrics=['accuracy']\n",
    ")"
   ]
  },
  {
   "cell_type": "markdown",
   "metadata": {},
   "source": [
    "\n",
    "\n",
    "**We train the model**. For the example, we set the number of epochs to 20 (`epochs = 20`) and 20% for validation (` validation_split = 0.2`).\n",
    "\n",
    "We can observe the results for the cost function and for the metrics that we have defined for the training and validation sets in each epoch. During execution, the approximate time remaining in each epoch (ETA = Estimated Time of Arrival), and the duration of past epochs are shown."
   ]
  },
  {
   "cell_type": "code",
   "execution_count": 27,
   "metadata": {
    "scrolled": true
   },
   "outputs": [
    {
     "name": "stdout",
     "output_type": "stream",
     "text": [
      "Epoch 1/30\n",
      "3/3 [==============================] - 3s 1s/step - loss: 1.2055 - accuracy: 0.3919 - val_loss: 1.2376 - val_accuracy: 0.2917\n",
      "Epoch 2/30\n",
      "3/3 [==============================] - 0s 59ms/step - loss: 1.1629 - accuracy: 0.4115 - val_loss: 1.2138 - val_accuracy: 0.2917\n",
      "Epoch 3/30\n",
      "3/3 [==============================] - 0s 94ms/step - loss: 1.1827 - accuracy: 0.3802 - val_loss: 1.1919 - val_accuracy: 0.2917\n",
      "Epoch 4/30\n",
      "3/3 [==============================] - 0s 63ms/step - loss: 1.1735 - accuracy: 0.3607 - val_loss: 1.1724 - val_accuracy: 0.2917\n",
      "Epoch 5/30\n",
      "3/3 [==============================] - 0s 87ms/step - loss: 1.1415 - accuracy: 0.3841 - val_loss: 1.1575 - val_accuracy: 0.2917\n",
      "Epoch 6/30\n",
      "3/3 [==============================] - 0s 70ms/step - loss: 1.1386 - accuracy: 0.3763 - val_loss: 1.1456 - val_accuracy: 0.2917\n",
      "Epoch 7/30\n",
      "3/3 [==============================] - 0s 55ms/step - loss: 1.0857 - accuracy: 0.4232 - val_loss: 1.1365 - val_accuracy: 0.2917\n",
      "Epoch 8/30\n",
      "3/3 [==============================] - 0s 90ms/step - loss: 1.1437 - accuracy: 0.3372 - val_loss: 1.1295 - val_accuracy: 0.2917\n",
      "Epoch 9/30\n",
      "3/3 [==============================] - 0s 28ms/step - loss: 1.1111 - accuracy: 0.3763 - val_loss: 1.1261 - val_accuracy: 0.2917\n",
      "Epoch 10/30\n",
      "3/3 [==============================] - 0s 73ms/step - loss: 1.0973 - accuracy: 0.3763 - val_loss: 1.1223 - val_accuracy: 0.2917\n",
      "Epoch 11/30\n",
      "3/3 [==============================] - 0s 61ms/step - loss: 1.0852 - accuracy: 0.3919 - val_loss: 1.1203 - val_accuracy: 0.2917\n",
      "Epoch 12/30\n",
      "3/3 [==============================] - 0s 70ms/step - loss: 1.0930 - accuracy: 0.3646 - val_loss: 1.1190 - val_accuracy: 0.2917\n",
      "Epoch 13/30\n",
      "3/3 [==============================] - 0s 64ms/step - loss: 1.0848 - accuracy: 0.3724 - val_loss: 1.1181 - val_accuracy: 0.2917\n",
      "Epoch 14/30\n",
      "3/3 [==============================] - 0s 51ms/step - loss: 1.0868 - accuracy: 0.3607 - val_loss: 1.1174 - val_accuracy: 0.2917\n",
      "Epoch 15/30\n",
      "3/3 [==============================] - 0s 55ms/step - loss: 1.0768 - accuracy: 0.3841 - val_loss: 1.1175 - val_accuracy: 0.2917\n",
      "Epoch 16/30\n",
      "3/3 [==============================] - 0s 35ms/step - loss: 1.0733 - accuracy: 0.3958 - val_loss: 1.1182 - val_accuracy: 0.2917\n",
      "Epoch 17/30\n",
      "3/3 [==============================] - 0s 47ms/step - loss: 1.0699 - accuracy: 0.3685 - val_loss: 1.1200 - val_accuracy: 0.2917\n",
      "Epoch 18/30\n",
      "3/3 [==============================] - 0s 55ms/step - loss: 1.0605 - accuracy: 0.4193 - val_loss: 1.1211 - val_accuracy: 0.2917\n",
      "Epoch 19/30\n",
      "3/3 [==============================] - 0s 39ms/step - loss: 1.0560 - accuracy: 0.4232 - val_loss: 1.1223 - val_accuracy: 0.2917\n",
      "Epoch 20/30\n",
      "3/3 [==============================] - 0s 111ms/step - loss: 1.0773 - accuracy: 0.3685 - val_loss: 1.1205 - val_accuracy: 0.2917\n",
      "Epoch 21/30\n",
      "3/3 [==============================] - 0s 77ms/step - loss: 1.0662 - accuracy: 0.3724 - val_loss: 1.1204 - val_accuracy: 0.2917\n",
      "Epoch 22/30\n",
      "3/3 [==============================] - 0s 67ms/step - loss: 1.0615 - accuracy: 0.3880 - val_loss: 1.1201 - val_accuracy: 0.2917\n",
      "Epoch 23/30\n",
      "3/3 [==============================] - 0s 66ms/step - loss: 1.0535 - accuracy: 0.3997 - val_loss: 1.1198 - val_accuracy: 0.2917\n",
      "Epoch 24/30\n",
      "3/3 [==============================] - 0s 51ms/step - loss: 1.0604 - accuracy: 0.3841 - val_loss: 1.1183 - val_accuracy: 0.2917\n",
      "Epoch 25/30\n",
      "3/3 [==============================] - 0s 36ms/step - loss: 1.0651 - accuracy: 0.3919 - val_loss: 1.1158 - val_accuracy: 0.2917\n",
      "Epoch 26/30\n",
      "3/3 [==============================] - 0s 37ms/step - loss: 1.0554 - accuracy: 0.3841 - val_loss: 1.1146 - val_accuracy: 0.2917\n",
      "Epoch 27/30\n",
      "3/3 [==============================] - 0s 46ms/step - loss: 1.0518 - accuracy: 0.3958 - val_loss: 1.1132 - val_accuracy: 0.2917\n",
      "Epoch 28/30\n",
      "3/3 [==============================] - 0s 46ms/step - loss: 1.0611 - accuracy: 0.3333 - val_loss: 1.1112 - val_accuracy: 0.2917\n",
      "Epoch 29/30\n",
      "3/3 [==============================] - 0s 69ms/step - loss: 1.0673 - accuracy: 0.3568 - val_loss: 1.1083 - val_accuracy: 0.2917\n",
      "Epoch 30/30\n",
      "3/3 [==============================] - 0s 55ms/step - loss: 1.0402 - accuracy: 0.4154 - val_loss: 1.1082 - val_accuracy: 0.2917\n"
     ]
    }
   ],
   "source": [
    "history = model.fit(X_train, y_train, epochs=30,\n",
    "                    validation_split=0.2, verbose=1, batch_size=32)"
   ]
  },
  {
   "cell_type": "markdown",
   "metadata": {},
   "source": [
    "With the `history` variable, we can **analyze how the value of the cost function and the metrics has evolved in each epoch**."
   ]
  },
  {
   "cell_type": "code",
   "execution_count": 28,
   "metadata": {
    "scrolled": true
   },
   "outputs": [
    {
     "data": {
      "text/html": [
       "<div>\n",
       "<style scoped>\n",
       "    .dataframe tbody tr th:only-of-type {\n",
       "        vertical-align: middle;\n",
       "    }\n",
       "\n",
       "    .dataframe tbody tr th {\n",
       "        vertical-align: top;\n",
       "    }\n",
       "\n",
       "    .dataframe thead th {\n",
       "        text-align: right;\n",
       "    }\n",
       "</style>\n",
       "<table border=\"1\" class=\"dataframe\">\n",
       "  <thead>\n",
       "    <tr style=\"text-align: right;\">\n",
       "      <th></th>\n",
       "      <th>loss</th>\n",
       "      <th>accuracy</th>\n",
       "      <th>val_loss</th>\n",
       "      <th>val_accuracy</th>\n",
       "      <th>epoch</th>\n",
       "    </tr>\n",
       "  </thead>\n",
       "  <tbody>\n",
       "    <tr>\n",
       "      <th>0</th>\n",
       "      <td>1.208983</td>\n",
       "      <td>0.385417</td>\n",
       "      <td>1.237608</td>\n",
       "      <td>0.291667</td>\n",
       "      <td>0</td>\n",
       "    </tr>\n",
       "    <tr>\n",
       "      <th>1</th>\n",
       "      <td>1.187324</td>\n",
       "      <td>0.385417</td>\n",
       "      <td>1.213791</td>\n",
       "      <td>0.291667</td>\n",
       "      <td>1</td>\n",
       "    </tr>\n",
       "    <tr>\n",
       "      <th>2</th>\n",
       "      <td>1.170410</td>\n",
       "      <td>0.385417</td>\n",
       "      <td>1.191931</td>\n",
       "      <td>0.291667</td>\n",
       "      <td>2</td>\n",
       "    </tr>\n",
       "    <tr>\n",
       "      <th>3</th>\n",
       "      <td>1.154470</td>\n",
       "      <td>0.385417</td>\n",
       "      <td>1.172365</td>\n",
       "      <td>0.291667</td>\n",
       "      <td>3</td>\n",
       "    </tr>\n",
       "    <tr>\n",
       "      <th>4</th>\n",
       "      <td>1.139004</td>\n",
       "      <td>0.385417</td>\n",
       "      <td>1.157458</td>\n",
       "      <td>0.291667</td>\n",
       "      <td>4</td>\n",
       "    </tr>\n",
       "  </tbody>\n",
       "</table>\n",
       "</div>"
      ],
      "text/plain": [
       "       loss  accuracy  val_loss  val_accuracy  epoch\n",
       "0  1.208983  0.385417  1.237608      0.291667      0\n",
       "1  1.187324  0.385417  1.213791      0.291667      1\n",
       "2  1.170410  0.385417  1.191931      0.291667      2\n",
       "3  1.154470  0.385417  1.172365      0.291667      3\n",
       "4  1.139004  0.385417  1.157458      0.291667      4"
      ]
     },
     "execution_count": 28,
     "metadata": {},
     "output_type": "execute_result"
    }
   ],
   "source": [
    "hist = pd.DataFrame(history.history)\n",
    "hist['epoch'] = history.epoch\n",
    "hist.head()"
   ]
  },
  {
   "cell_type": "markdown",
   "metadata": {},
   "source": [
    "We visualize the **evolution of the values of the loss function in each of the epochs**.\n",
    "\n",
    "As expected, the values for the training set are lower than for the validation set. Furthermore, for both series, the values are less and less, which translates into the correct learning of the model period by period."
   ]
  },
  {
   "cell_type": "code",
   "execution_count": 29,
   "metadata": {},
   "outputs": [
    {
     "data": {
      "text/plain": [
       "<Figure size 640x480 with 1 Axes>"
      ]
     },
     "metadata": {},
     "output_type": "display_data"
    }
   ],
   "source": [
    "import matplotlib.pyplot as plt\n",
    "\n",
    "hist = pd.DataFrame(history.history)\n",
    "hist['epoch'] = history.epoch\n",
    "\n",
    "plt.figure()\n",
    "plt.xlabel('Epoch')\n",
    "plt.ylabel('Categorical Crossentropy')\n",
    "\n",
    "plt.plot(hist['epoch'], hist['loss'],\n",
    "       label='Train Error')\n",
    "plt.plot(hist['epoch'], hist['val_loss'],\n",
    "       label = 'Val Error')\n",
    "\n",
    "plt.legend();\n",
    "plt.show()"
   ]
  },
  {
   "cell_type": "markdown",
   "metadata": {},
   "source": [
    "**Evaluate** the model"
   ]
  },
  {
   "cell_type": "code",
   "execution_count": 30,
   "metadata": {},
   "outputs": [
    {
     "name": "stdout",
     "output_type": "stream",
     "text": [
      "1/1 [==============================] - 0s 96ms/step - loss: 1.1098 - accuracy: 0.2000\n"
     ]
    }
   ],
   "source": [
    "results = model.evaluate(X_test, y_test, verbose=1)"
   ]
  },
  {
   "cell_type": "code",
   "execution_count": 31,
   "metadata": {},
   "outputs": [
    {
     "name": "stdout",
     "output_type": "stream",
     "text": [
      "Test Loss: 1.109777808189392\n",
      "Test Accuracy: 0.20000000298023224\n"
     ]
    }
   ],
   "source": [
    "print('Test Loss: {}'.format(results[0]))\n",
    "print('Test Accuracy: {}'.format(results[1]))"
   ]
  },
  {
   "cell_type": "markdown",
   "metadata": {},
   "source": [
    "And finally, we make some **predictions**.\n",
    "\n",
    "In the following example we will use the first row of the test data set.\n",
    "\n",
    "As the last layer of the network has three units (neurons) whose activation function is a softmax, it can be observed how the prediction result is the estimated probabilities for each class."
   ]
  },
  {
   "cell_type": "code",
   "execution_count": 32,
   "metadata": {},
   "outputs": [
    {
     "data": {
      "text/plain": [
       "array([[0.32133788, 0.27803314, 0.400629  ]], dtype=float32)"
      ]
     },
     "execution_count": 32,
     "metadata": {},
     "output_type": "execute_result"
    }
   ],
   "source": [
    "model.predict(X_test[:1])"
   ]
  },
  {
   "cell_type": "markdown",
   "metadata": {},
   "source": [
    "We can compare these values with the real ones taking the highest probability. In this case, the highest probability corresponds to the correct class."
   ]
  },
  {
   "cell_type": "code",
   "execution_count": 33,
   "metadata": {},
   "outputs": [
    {
     "data": {
      "text/plain": [
       "array([[0., 0., 1.]], dtype=float32)"
      ]
     },
     "execution_count": 33,
     "metadata": {},
     "output_type": "execute_result"
    }
   ],
   "source": [
    "y_test[:1]"
   ]
  },
  {
   "cell_type": "markdown",
   "metadata": {},
   "source": [
    "It is possible to get the prediction for a subset of data at one time."
   ]
  },
  {
   "cell_type": "code",
   "execution_count": 34,
   "metadata": {},
   "outputs": [
    {
     "data": {
      "text/plain": [
       "array([[0.31734955, 0.28037784, 0.40227267],\n",
       "       [0.32505748, 0.2782682 , 0.3966744 ],\n",
       "       [0.35971037, 0.26497558, 0.37531403],\n",
       "       [0.322849  , 0.27820858, 0.39894244],\n",
       "       [0.31599578, 0.28050178, 0.40350246]], dtype=float32)"
      ]
     },
     "execution_count": 34,
     "metadata": {},
     "output_type": "execute_result"
    }
   ],
   "source": [
    "model.predict(X_train[:5])"
   ]
  },
  {
   "cell_type": "markdown",
   "metadata": {},
   "source": [
    "We can \"build\" an input \"by hand\", for example, as in the following example.\n",
    "\n",
    "It is essential to always be careful with the dimensions of the data at the input and the dimension of the input of the network."
   ]
  },
  {
   "cell_type": "code",
   "execution_count": 35,
   "metadata": {},
   "outputs": [
    {
     "data": {
      "text/plain": [
       "array([[0.35984278, 0.2651467 , 0.37501052]], dtype=float32)"
      ]
     },
     "execution_count": 35,
     "metadata": {},
     "output_type": "execute_result"
    }
   ],
   "source": [
    "sepal_length = 4.8\n",
    "sepal_width = 3.3\n",
    "petal_length = 1.4\n",
    "petal_width = 0.2\n",
    "\n",
    "model.predict(\n",
    "    np.array([\n",
    "        [sepal_length, sepal_width, petal_length, petal_width]\n",
    "    ])\n",
    ")"
   ]
  },
  {
   "cell_type": "markdown",
   "metadata": {},
   "source": [
    "### Save and load the model"
   ]
  },
  {
   "cell_type": "code",
   "execution_count": 36,
   "metadata": {},
   "outputs": [
    {
     "name": "stdout",
     "output_type": "stream",
     "text": [
      "INFO:tensorflow:Assets written to: path/to/location/assets\n"
     ]
    }
   ],
   "source": [
    "model.save('path/to/location')\n",
    "model_load = keras.models.load_model('path/to/location')"
   ]
  },
  {
   "cell_type": "markdown",
   "metadata": {},
   "source": [
    "**Keras H5 format**\n",
    "\n",
    "Keras also supports saving a single HDF5 file containing the model's architecture, weights values, and compile() information. It is a light-weight alternative to SavedModel."
   ]
  },
  {
   "cell_type": "code",
   "execution_count": 37,
   "metadata": {},
   "outputs": [],
   "source": [
    "model.save(\"my_h5_model.h5\")"
   ]
  },
  {
   "cell_type": "markdown",
   "metadata": {},
   "source": [
    "### Practice\n",
    "\n",
    "Make the same model with the sequential way"
   ]
  },
  {
   "cell_type": "code",
   "execution_count": 38,
   "metadata": {},
   "outputs": [
    {
     "ename": "SyntaxError",
     "evalue": "invalid syntax (<ipython-input-38-b1afe586c0aa>, line 8)",
     "output_type": "error",
     "traceback": [
      "\u001b[0;36m  File \u001b[0;32m\"<ipython-input-38-b1afe586c0aa>\"\u001b[0;36m, line \u001b[0;32m8\u001b[0m\n\u001b[0;31m    model.summary()\u001b[0m\n\u001b[0m        ^\u001b[0m\n\u001b[0;31mSyntaxError\u001b[0m\u001b[0;31m:\u001b[0m invalid syntax\n"
     ]
    }
   ],
   "source": [
    "model = keras.Sequential(name='example_model')\n",
    "\n",
    "## hidden layers (remember the input dimension in the first hidden layer)\n",
    "model.add(...\n",
    "\n",
    "## ouput layer\n",
    "\n",
    "model.summary()"
   ]
  },
  {
   "cell_type": "code",
   "execution_count": null,
   "metadata": {},
   "outputs": [],
   "source": [
    "# Compile the model"
   ]
  },
  {
   "cell_type": "code",
   "execution_count": null,
   "metadata": {},
   "outputs": [],
   "source": [
    "## train the model\n",
    "history = ..."
   ]
  },
  {
   "cell_type": "code",
   "execution_count": null,
   "metadata": {},
   "outputs": [],
   "source": [
    "## plot the results\n",
    "hist = pd.DataFrame(history.history)\n",
    "hist['epoch'] = history.epoch\n",
    "\n",
    "hist = pd.DataFrame(history.history)\n",
    "hist['epoch'] = history.epoch\n",
    "\n",
    "plt.figure()\n",
    "plt.xlabel('Epoch')\n",
    "plt.ylabel('Categorical Crossentropy')\n",
    "\n",
    "plt.plot(hist['epoch'], hist['loss'],\n",
    "       label='Train Error')\n",
    "plt.plot(hist['epoch'], hist['val_loss'],\n",
    "       label = 'Val Error')\n",
    "\n",
    "plt.legend();\n",
    "plt.show()"
   ]
  },
  {
   "cell_type": "code",
   "execution_count": null,
   "metadata": {},
   "outputs": [],
   "source": [
    "# Evaluate the model\n",
    "results = ...\n",
    "print('Test Loss: {}'.format(results[0]))\n",
    "print('Test Accuracy: {}'.format(results[1]))"
   ]
  },
  {
   "cell_type": "markdown",
   "metadata": {},
   "source": [
    "Repeate the process varying the number of layers, neurons or epochs and compare the results "
   ]
  },
  {
   "cell_type": "code",
   "execution_count": null,
   "metadata": {},
   "outputs": [],
   "source": [
    "model = keras.Sequential(name='example_model')\n",
    "\n",
    "## hidden layers (remember the input dimension in the first hidden layer)\n",
    "model.add(...\n",
    "\n",
    "## ouput layer\n",
    "\n",
    "model.summary()"
   ]
  },
  {
   "cell_type": "code",
   "execution_count": null,
   "metadata": {},
   "outputs": [],
   "source": [
    "# Compile and fit the model with different number of epochs and batch_size"
   ]
  },
  {
   "cell_type": "code",
   "execution_count": null,
   "metadata": {},
   "outputs": [],
   "source": [
    "## Compare the results with different models\n",
    "results = ...\n",
    "print('Test Loss: {}'.format(results[0]))\n",
    "print('Test Accuracy: {}'.format(results[1]))"
   ]
  },
  {
   "cell_type": "code",
   "execution_count": null,
   "metadata": {},
   "outputs": [],
   "source": []
  },
  {
   "cell_type": "code",
   "execution_count": null,
   "metadata": {},
   "outputs": [],
   "source": []
  },
  {
   "cell_type": "code",
   "execution_count": null,
   "metadata": {
    "scrolled": true
   },
   "outputs": [],
   "source": [
    "import matplotlib.pyplot as plt\n",
    "\n",
    "def draw_neural_net(ax, left, right, bottom, top, layer_sizes):\n",
    "    '''\n",
    "    Draw a neural network cartoon using matplotilb.\n",
    "    \n",
    "    :usage:\n",
    "        >>> fig = plt.figure(figsize=(12, 12))\n",
    "        >>> draw_neural_net(fig.gca(), .1, .9, .1, .9, [4, 7, 2])\n",
    "    \n",
    "    :parameters:\n",
    "        - ax : matplotlib.axes.AxesSubplot\n",
    "            The axes on which to plot the cartoon (get e.g. by plt.gca())\n",
    "        - left : float\n",
    "            The center of the leftmost node(s) will be placed here\n",
    "        - right : float\n",
    "            The center of the rightmost node(s) will be placed here\n",
    "        - bottom : float\n",
    "            The center of the bottommost node(s) will be placed here\n",
    "        - top : float\n",
    "            The center of the topmost node(s) will be placed here\n",
    "        - layer_sizes : list of int\n",
    "            List of layer sizes, including input and output dimensionality\n",
    "    '''\n",
    "    n_layers = len(layer_sizes)\n",
    "    v_spacing = (top - bottom)/float(max(layer_sizes))\n",
    "    h_spacing = (right - left)/float(len(layer_sizes) - 1)\n",
    "    # Nodes\n",
    "    for n, layer_size in enumerate(layer_sizes):\n",
    "        layer_top = v_spacing*(layer_size - 1)/2. + (top + bottom)/2.\n",
    "        for m in range(layer_size):\n",
    "            circle = plt.Circle((n*h_spacing + left, layer_top - m*v_spacing), v_spacing/4.,\n",
    "                                color='w', ec='k', zorder=4)\n",
    "            ax.add_artist(circle)\n",
    "    # Edges\n",
    "    for n, (layer_size_a, layer_size_b) in enumerate(zip(layer_sizes[:-1], layer_sizes[1:])):\n",
    "        layer_top_a = v_spacing*(layer_size_a - 1)/2. + (top + bottom)/2.\n",
    "        layer_top_b = v_spacing*(layer_size_b - 1)/2. + (top + bottom)/2.\n",
    "        for m in range(layer_size_a):\n",
    "            for o in range(layer_size_b):\n",
    "                line = plt.Line2D([n*h_spacing + left, (n + 1)*h_spacing + left],\n",
    "                                  [layer_top_a - m*v_spacing, layer_top_b - o*v_spacing], c='k')\n",
    "                ax.add_artist(line)\n",
    "                \n",
    "fig = plt.figure(figsize=(6, 6))\n",
    "ax = fig.gca()\n",
    "ax.axis('off')\n",
    "draw_neural_net(ax, .1, .9, .1, .9, [8, 4, 4, 1])\n",
    "#fig.savefig('nn.png')"
   ]
  },
  {
   "cell_type": "code",
   "execution_count": null,
   "metadata": {},
   "outputs": [],
   "source": [
    "draw_neural_net(ax, .1, .9, .1, .9, [8, 4, 4, 1])"
   ]
  },
  {
   "cell_type": "code",
   "execution_count": null,
   "metadata": {},
   "outputs": [],
   "source": []
  }
 ],
 "metadata": {
  "colab": {
   "authorship_tag": "ABX9TyPQHcaG++PPLYUXDcKliAVL",
   "name": "Actividad 1.ipynb",
   "provenance": []
  },
  "kernelspec": {
   "display_name": "Python 3",
   "language": "python",
   "name": "python3"
  },
  "language_info": {
   "codemirror_mode": {
    "name": "ipython",
    "version": 3
   },
   "file_extension": ".py",
   "mimetype": "text/x-python",
   "name": "python",
   "nbconvert_exporter": "python",
   "pygments_lexer": "ipython3",
   "version": "3.6.12"
  }
 },
 "nbformat": 4,
 "nbformat_minor": 1
}
