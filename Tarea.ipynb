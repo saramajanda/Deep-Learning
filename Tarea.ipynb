{
 "cells": [
  {
   "cell_type": "markdown",
   "id": "prospective-america",
   "metadata": {},
   "source": [
    "Dado que el entrenamiento de redes neuronales es una tarea  muy costosa, **se recomienda ejecutar el notebooks en [Google Colab](https://colab.research.google.com)**, por supuesto también se puede ejecutar en local.\n",
    "\n",
    "Al entrar en [Google Colab](https://colab.research.google.com) bastará con hacer click en `upload` y subir este notebook. No olvide luego descargarlo en `File->Download .ipynb`\n",
    "\n",
    "**El examen deberá ser entregado con las celdas ejecutadas, si alguna celda no está ejecutadas no se contará.**"
   ]
  },
  {
   "cell_type": "markdown",
   "id": "novel-stewart",
   "metadata": {},
   "source": [
    "El examen se divide en tres partes, con la puntuación que se indica a continuación. La puntuación máxima será 10.\n",
    "\n",
    "- [Actividad 1: Redes Densas](#actividad_1): 5.5 pts\n",
    "    - Correcta normalización: máximo de 0.5 pts\n",
    "    - [Cuestión 1](#1.1): 1 pt\n",
    "    - [Cuestión 2](#1.2): 1 pt\n",
    "    - [Cuestión 3](#1.3): 0.5 pts\n",
    "    - [Cuestión 4](#1.4): 0.5 pts\n",
    "    - [Cuestión 5](#1.5): 0.5 pts\n",
    "    - [Cuestión 6](#1.6): 0.5 pts\n",
    "    - [Cuestión 7](#1.7): 0.5 pts\n",
    "    - [Cuestión 8](#1.8): 0.5 pts\n",
    "\n",
    "\n",
    "- [Actividad 2: Redes Convolucionales](#actividad_2): 4.5 pts\n",
    "    - [Cuestión 1](#2.1): 1 pt\n",
    "    - [Cuestión 2](#2.2): 1.5 pt\n",
    "    - [Cuestión 3](#2.3): 0.5 pts\n",
    "    - [Cuestión 4](#2.4): 0.5 pts\n",
    "    - [Cuestión 5](#2.5): 0.5 pts\n",
    "    - [Cuestión 6](#2.6): 0.5 pts\n"
   ]
  },
  {
   "cell_type": "code",
   "execution_count": null,
   "id": "prompt-developer",
   "metadata": {},
   "outputs": [],
   "source": [
    "import tensorflow as tf\n",
    "from tensorflow import keras\n",
    "from tensorflow.keras import layers\n",
    "import matplotlib.pyplot as plt\n",
    "import pandas as pd\n",
    "import numpy as np"
   ]
  },
  {
   "cell_type": "markdown",
   "id": "vocal-correction",
   "metadata": {},
   "source": [
    "<a name='actividad_1'></a>\n",
    "# Actividad 1: Redes Densas\n",
    "\n",
    "Para esta primera actividad vamos a utilizar el [boston housing dataset](https://www.cs.toronto.edu/~delve/data/boston/bostonDetail.html). Con el que trataremos de predecir el precio de una casa con 13 features.\n",
    "\n",
    "**Puntuación**: \n",
    "\n",
    "Normalizar las features correctamente (x_train, x_test): 0.5 pts \n",
    "\n",
    "- Correcta normalización: máximo de 0.5 pts\n",
    "- [Cuestión 1](#1.1): 1 pt\n",
    "- [Cuestión 2](#1.2): 1 pt\n",
    "- [Cuestión 3](#1.3): 0.5 pts\n",
    "- [Cuestión 4](#1.4): 0.5 pts\n",
    "- [Cuestión 5](#1.5): 0.5 pts\n",
    "- [Cuestión 6](#1.6): 0.5 pts\n",
    "- [Cuestión 7](#1.7): 0.5 pts\n",
    "- [Cuestión 8](#1.8): 0.5 pts\n",
    "\n"
   ]
  },
  {
   "cell_type": "code",
   "execution_count": null,
   "id": "presidential-milan",
   "metadata": {},
   "outputs": [],
   "source": [
    "(x_train, y_train), (x_test, y_test) = tf.keras.datasets.boston_housing.load_data(\n",
    "    path='boston_housing.npz',\n",
    "    test_split=0.2,\n",
    ")\n",
    "print('x_train, y_train shapes:', x_train.shape, y_train.shape)\n",
    "print('x_test, y_test shapes:', x_train.shape, y_train.shape)\n",
    "print('Some prices: ', y_train[:5])"
   ]
  },
  {
   "cell_type": "code",
   "execution_count": null,
   "id": "painted-extreme",
   "metadata": {},
   "outputs": [],
   "source": [
    "## Si quiere, puede normalizar las features"
   ]
  },
  {
   "cell_type": "markdown",
   "id": "underlying-planner",
   "metadata": {},
   "source": [
    "<a name='1.1'></a>\n",
    "## Cuestión 1: Cree un modelo secuencial que contenga 4 capas ocultas(hidden layers), con más de 60 neuronas  por capa, sin regularización y obtenga los resultados.\n",
    "\n",
    "Puntuación: \n",
    "- Obtener el modelo correcto: 0.8 pts\n",
    "- Compilar el modelo: 0.1pts\n",
    "- Acertar con la función de pérdida: 0.1 pts"
   ]
  },
  {
   "cell_type": "code",
   "execution_count": null,
   "id": "working-shade",
   "metadata": {},
   "outputs": [],
   "source": [
    "model = tf.keras.models.Sequential()\n",
    "# Código aquí\n",
    "..."
   ]
  },
  {
   "cell_type": "code",
   "execution_count": null,
   "id": "mobile-change",
   "metadata": {},
   "outputs": [],
   "source": [
    "# Compilación del modelo\n",
    "# Código aquí\n",
    "model.compile(...)"
   ]
  },
  {
   "cell_type": "code",
   "execution_count": null,
   "id": "rotary-credits",
   "metadata": {},
   "outputs": [],
   "source": [
    "# No modifique el código\n",
    "model.fit(x_train,\n",
    "          y_train,\n",
    "          epochs=200,\n",
    "          batch_size=32,\n",
    "          validation_split=0.2,\n",
    "          verbose=1)"
   ]
  },
  {
   "cell_type": "code",
   "execution_count": null,
   "id": "descending-letters",
   "metadata": {},
   "outputs": [],
   "source": [
    "# No modifique el código\n",
    "results = model.evaluate(x_test, y_test, verbose=1)\n",
    "print('Test Loss: {}'.format(results))"
   ]
  },
  {
   "cell_type": "markdown",
   "id": "raised-delivery",
   "metadata": {},
   "source": [
    "<a name='1.2'></a>\n",
    "## Cuestión 2: Utilice el mismo modelo de la cuestión anterior pero añadiendo al menos dos técnicas distinas de regularización.\n",
    "\n",
    "Ejemplos de regularización: [Prevent_Overfitting.ipynb](https://github.com/ezponda/intro_deep_learning/blob/main/class/Fundamentals/Prevent_Overfitting.ipynb)\n",
    "\n",
    "Puntuación:\n",
    "\n",
    "- Obtener el modelo con la regularización: 0.8 pts\n",
    "- Obtener un `test loss` inferior al anterior: 0.2 pts\n"
   ]
  },
  {
   "cell_type": "code",
   "execution_count": null,
   "id": "hired-ground",
   "metadata": {},
   "outputs": [],
   "source": [
    "model = tf.keras.models.Sequential()\n",
    "# Código aquí\n",
    "..."
   ]
  },
  {
   "cell_type": "code",
   "execution_count": null,
   "id": "focal-traffic",
   "metadata": {},
   "outputs": [],
   "source": [
    "# Compilación del modelo\n",
    "# Código aquí\n",
    "model.compile(...)"
   ]
  },
  {
   "cell_type": "code",
   "execution_count": null,
   "id": "338f8622",
   "metadata": {},
   "outputs": [],
   "source": [
    "batch_size=..."
   ]
  },
  {
   "cell_type": "code",
   "execution_count": null,
   "id": "prostate-instrumentation",
   "metadata": {},
   "outputs": [],
   "source": [
    "# No modifique el código\n",
    "model.fit(x_train,\n",
    "          y_train,\n",
    "          epochs=200,\n",
    "          batch_size=batch_size,\n",
    "          validation_split=0.2,\n",
    "          verbose=1)"
   ]
  },
  {
   "cell_type": "code",
   "execution_count": null,
   "id": "friendly-powell",
   "metadata": {},
   "outputs": [],
   "source": [
    "# No modifique el código\n",
    "results = model.evaluate(x_test, y_test, verbose=1)\n",
    "print('Test Loss: {}'.format(results))"
   ]
  },
  {
   "cell_type": "markdown",
   "id": "british-vegetation",
   "metadata": {},
   "source": [
    "<a name='1.3'></a>\n",
    "## Cuestión 3: Utilice el mismo modelo de la cuestión anterior pero añadiendo un callback de early stopping. Obtenga un test loss inferior al del modelo anterior"
   ]
  },
  {
   "cell_type": "code",
   "execution_count": null,
   "id": "precise-finish",
   "metadata": {},
   "outputs": [],
   "source": [
    "model = tf.keras.models.Sequential()\n",
    "# Código aquí\n",
    "..."
   ]
  },
  {
   "cell_type": "code",
   "execution_count": null,
   "id": "blond-telephone",
   "metadata": {},
   "outputs": [],
   "source": [
    "# Compilación del modelo\n",
    "# Código aquí\n",
    "model.compile(...)"
   ]
  },
  {
   "cell_type": "code",
   "execution_count": null,
   "id": "subsequent-roads",
   "metadata": {},
   "outputs": [],
   "source": [
    "## definir el early stopping callback\n",
    "# Código aquí\n",
    "...\n",
    "model.fit(x_train,\n",
    "          y_train,\n",
    "          epochs=200,\n",
    "          batch_size=32,\n",
    "          validation_split=0.2,\n",
    "          verbose=1,\n",
    "          callbacks=[...]) # Código aquí"
   ]
  },
  {
   "cell_type": "code",
   "execution_count": null,
   "id": "pressing-object",
   "metadata": {},
   "outputs": [],
   "source": [
    "# No modifique el código\n",
    "results = model.evaluate(x_test, y_test, verbose=1)\n",
    "print('Test Loss: {}'.format(results))"
   ]
  },
  {
   "cell_type": "markdown",
   "id": "addressed-lesbian",
   "metadata": {},
   "source": [
    "<a name='1.4'></a>\n",
    "## Cuestión 4: ¿Podría haberse usado otra función de activación de la neurona de salida? En caso afirmativo especifíquela."
   ]
  },
  {
   "cell_type": "markdown",
   "id": "ruled-silicon",
   "metadata": {},
   "source": []
  },
  {
   "cell_type": "markdown",
   "id": "robust-christianity",
   "metadata": {},
   "source": [
    "<a name='1.5'></a>\n",
    "## Cuestión 5:  ¿Qué es lo que una neurona calcula?\n",
    "\n",
    "**a)** Una función de activación seguida de una suma ponderada  de las entradas.\n",
    "\n",
    "**b)** Una suma ponderada  de las entradas seguida de una función de activación.\n",
    "\n",
    "**c)** Una función de pérdida, definida sobre el target.\n",
    "\n",
    "**d)** Ninguna  de las anteriores es correcta\n"
   ]
  },
  {
   "cell_type": "markdown",
   "id": "joined-burden",
   "metadata": {},
   "source": []
  },
  {
   "cell_type": "markdown",
   "id": "iraqi-european",
   "metadata": {},
   "source": [
    "<a name='1.6'></a>\n",
    "## Cuestión 6:  ¿Cuál de estas funciones de activación no debería usarse en una capa oculta (hidden layer)?\n",
    "\n",
    "**a)** `sigmoid`\n",
    "\n",
    "**b)** `tanh`\n",
    "\n",
    "**c)** `relu`\n",
    "\n",
    "**d)** `linear`\n"
   ]
  },
  {
   "cell_type": "markdown",
   "id": "cardiovascular-attack",
   "metadata": {},
   "source": []
  },
  {
   "cell_type": "markdown",
   "id": "ranging-utilization",
   "metadata": {},
   "source": [
    "<a name='1.7'></a>\n",
    "## Cuestión 7:  ¿Cuál de estas técnicas es efectiva para combatir el overfitting en una red con varias capas ocultas? Ponga todas las que lo sean.\n",
    "\n",
    "**a)** Dropout\n",
    "\n",
    "**b)** Regularización L2.\n",
    "\n",
    "**c)** Aumentar el tamaño del test set.\n",
    "\n",
    "**d)** Aumentar el tamaño del validation set.\n",
    "\n",
    "**e)** Reducir el número de capas de la red.\n",
    "\n",
    "**f)** Data augmentation."
   ]
  },
  {
   "cell_type": "markdown",
   "id": "accessible-trainer",
   "metadata": {},
   "source": []
  },
  {
   "cell_type": "markdown",
   "id": "recreational-deposit",
   "metadata": {},
   "source": [
    "<a name='1.8'></a>\n",
    "## Cuestión 8:  Supongamos que queremos entrenar una red para un problema de clasificación de imágenes con las siguientes clases: {'perro','gato','persona'}. ¿Cuántas neuronas y que función de activación debería tener la capa de salida? ¿Qué función de pérdida (loss function) debería usarse?\n"
   ]
  },
  {
   "cell_type": "markdown",
   "id": "confirmed-roulette",
   "metadata": {},
   "source": []
  },
  {
   "cell_type": "markdown",
   "id": "painful-decade",
   "metadata": {},
   "source": [
    "<a name='actividad_2'></a>\n",
    "# Actividad 2: Redes Convolucionales\n",
    "\n",
    "Vamos a usar el dataset [cifar-10](https://www.cs.toronto.edu/~kriz/cifar.html), que son 60000 imágenes de 32x32 a color  con 10 clases diferentes. Para realizar mejor la práctica puede consultar [Introduction_to_CNN.ipynb](https://github.com/ezponda/intro_deep_learning/blob/main/class/CNN/Introduction_to_CNN.ipynb).\n",
    "\n",
    "\n",
    "\n",
    "**Puntuación**: \n",
    "\n",
    "- [Cuestión 1](#2.1): 1 pt\n",
    "- [Cuestión 2](#2.2): 1.5 pt\n",
    "- [Cuestión 3](#2.3): 0.5 pts\n",
    "- [Cuestión 4](#2.4): 0.5 pts\n",
    "- [Cuestión 5](#2.5): 0.5 pts\n",
    "- [Cuestión 6](#2.6): 0.5 pts\n",
    "\n",
    "\n",
    "\n",
    "\n",
    "Puede normalizar las imágenes al principio o usar la capa [Rescaling](https://www.tensorflow.org/api_docs/python/tf/keras/layers/experimental/preprocessing/Rescaling):\n",
    "\n",
    "```python\n",
    "tf.keras.layers.experimental.preprocessing.Rescaling(\n",
    "    scale, offset=0.0, name=None, **kwargs\n",
    ")\n",
    "```"
   ]
  },
  {
   "cell_type": "code",
   "execution_count": null,
   "id": "incorporate-terrorist",
   "metadata": {},
   "outputs": [],
   "source": [
    "(x_train, y_train), (x_test, y_test) = tf.keras.datasets.cifar10.load_data()\n",
    "y_train = y_train.flatten()\n",
    "y_test = y_test.flatten()"
   ]
  },
  {
   "cell_type": "code",
   "execution_count": null,
   "id": "brazilian-rhythm",
   "metadata": {},
   "outputs": [],
   "source": [
    "class_names = ['airplane', 'automobile', 'bird', 'cat', 'deer',\n",
    "               'dog', 'frog', 'horse', 'ship', 'truck']\n",
    "\n",
    "plt.figure(figsize=(10,10))\n",
    "for i in range(25):\n",
    "    plt.subplot(5,5,i+1)\n",
    "    plt.xticks([])\n",
    "    plt.yticks([])\n",
    "    plt.grid(False)\n",
    "    plt.imshow(x_train[i])\n",
    "    plt.xlabel(class_names[y_train[i]])\n",
    "plt.show()"
   ]
  },
  {
   "cell_type": "code",
   "execution_count": null,
   "id": "extreme-quantum",
   "metadata": {},
   "outputs": [],
   "source": [
    "print('x_train, y_train shapes:', x_train.shape, y_train.shape)\n",
    "print('x_test, y_test shapes:', x_test.shape, y_test.shape)"
   ]
  },
  {
   "cell_type": "markdown",
   "id": "living-philosophy",
   "metadata": {},
   "source": [
    "<a name='2.1'></a>\n",
    "## Cuestión 1: Cree una red convolucional con la API funcional con al menos dos capas convolucionales y al menos dos capas de pooling. Utilize sólo [Average Pooling](https://www.tensorflow.org/api_docs/python/tf/keras/layers/AveragePooling2D) y no añada ninguna regularización."
   ]
  },
  {
   "cell_type": "code",
   "execution_count": null,
   "id": "atmospheric-sight",
   "metadata": {},
   "outputs": [],
   "source": [
    "inputs = tf.keras.Input(shape=..., name='input')\n",
    "# reescaling = ...\n",
    "\n",
    "# Convolution + pooling layers\n",
    "...\n",
    "\n",
    "# Flattening\n",
    "...\n",
    "\n",
    "# Fully-connected\n",
    "outputs = layers.Dense(...)\n",
    "\n",
    "model = keras.Model(inputs=..., outputs=...)"
   ]
  },
  {
   "cell_type": "code",
   "execution_count": null,
   "id": "needed-arena",
   "metadata": {},
   "outputs": [],
   "source": [
    "model.compile(optimizer='adam',\n",
    "              loss=tf.keras.losses.SparseCategoricalCrossentropy(),\n",
    "              metrics=['accuracy'])"
   ]
  },
  {
   "cell_type": "code",
   "execution_count": null,
   "id": "pursuant-paper",
   "metadata": {},
   "outputs": [],
   "source": [
    "history = model.fit(x_train, y_train, epochs=25, batch_size=64,\n",
    "                    validation_split=0.15)"
   ]
  },
  {
   "cell_type": "code",
   "execution_count": null,
   "id": "applicable-honduras",
   "metadata": {},
   "outputs": [],
   "source": [
    "results = model.evaluate(x_test, y_test, verbose=0, batch_size=1000)\n",
    "print('Test Loss: {}'.format(results[0]))\n",
    "print('Test Accuracy: {}'.format(results[1]))"
   ]
  },
  {
   "cell_type": "markdown",
   "id": "numerous-invite",
   "metadata": {},
   "source": [
    "<a name='2.2'></a>\n",
    "## Cuestión 2: Cree un modelo con la API funcional con un máximo de 2 capas convolucionales y un máximo de 2 capas de pooling. Utilize  [Max Pooling](https://www.tensorflow.org/api_docs/python/tf/keras/layers/MaxPool2D) o [Average Pooling](https://www.tensorflow.org/api_docs/python/tf/keras/layers/AveragePooling2D) y  añada la regularización que quiera. Debe obtener un `Test accuracy > 0.68`"
   ]
  },
  {
   "cell_type": "code",
   "execution_count": null,
   "id": "annual-diploma",
   "metadata": {},
   "outputs": [],
   "source": [
    "inputs = tf.keras.Input(shape=..., name='input')\n",
    "# reescaling = ...\n",
    "\n",
    "# Convolution + pooling layers\n",
    "...\n",
    "\n",
    "# Flattening\n",
    "...\n",
    "\n",
    "# Fully-connected\n",
    "outputs = layers.Dense(...)\n",
    "\n",
    "model = keras.Model(inputs=..., outputs=...)"
   ]
  },
  {
   "cell_type": "code",
   "execution_count": null,
   "id": "indian-messaging",
   "metadata": {},
   "outputs": [],
   "source": [
    "model.compile(optimizer='adam',\n",
    "              loss=tf.keras.losses.SparseCategoricalCrossentropy(),\n",
    "              metrics=['accuracy'])"
   ]
  },
  {
   "cell_type": "code",
   "execution_count": null,
   "id": "functional-republic",
   "metadata": {},
   "outputs": [],
   "source": [
    "history = model.fit(x_train, y_train, epochs=..., batch_size=...,\n",
    "                    validation_split=0.15, callbacks=lbacks=[...])"
   ]
  },
  {
   "cell_type": "code",
   "execution_count": null,
   "id": "incorrect-completion",
   "metadata": {},
   "outputs": [],
   "source": [
    "results = model.evaluate(x_test, y_test, verbose=0, batch_size=1000)\n",
    "print('Test Loss: {}'.format(results[0]))\n",
    "print('Test Accuracy: {}'.format(results[1]))"
   ]
  },
  {
   "cell_type": "markdown",
   "id": "optical-arizona",
   "metadata": {},
   "source": [
    "<a name='2.3'></a>\n",
    "## Cuestión 3: Añada data augmentation al principio del modelo\n",
    "\n"
   ]
  },
  {
   "cell_type": "code",
   "execution_count": null,
   "id": "previous-boxing",
   "metadata": {},
   "outputs": [],
   "source": [
    "data_augmentation=... "
   ]
  },
  {
   "cell_type": "code",
   "execution_count": null,
   "id": "comprehensive-directive",
   "metadata": {},
   "outputs": [],
   "source": [
    "inputs = tf.keras.Input(shape=..., name='input')\n",
    "data_aug= ...\n",
    "\n",
    "# reescaling = ...\n",
    "\n",
    "# Convolution + pooling layers\n",
    "...\n",
    "\n",
    "# Flattening\n",
    "...\n",
    "\n",
    "# Fully-connected\n",
    "outputs = layers.Dense(...)\n",
    "\n",
    "model = keras.Model(inputs=..., outputs=...)"
   ]
  },
  {
   "cell_type": "code",
   "execution_count": null,
   "id": "statutory-covering",
   "metadata": {},
   "outputs": [],
   "source": [
    "model.compile(optimizer='adam',\n",
    "              loss=tf.keras.losses.SparseCategoricalCrossentropy(),\n",
    "              metrics=['accuracy'])"
   ]
  },
  {
   "cell_type": "code",
   "execution_count": null,
   "id": "western-energy",
   "metadata": {},
   "outputs": [],
   "source": [
    "history = model.fit(x_train, y_train, epochs=..., batch_size=...,\n",
    "                    validation_split=0.15, callbacks=lbacks=[...])"
   ]
  },
  {
   "cell_type": "code",
   "execution_count": null,
   "id": "classical-charm",
   "metadata": {},
   "outputs": [],
   "source": [
    "results = model.evaluate(x_test, y_test, verbose=0, batch_size=1000)\n",
    "print('Test Loss: {}'.format(results[0]))\n",
    "print('Test Accuracy: {}'.format(results[1]))"
   ]
  },
  {
   "cell_type": "markdown",
   "id": "sweet-implement",
   "metadata": {},
   "source": [
    "<a name='2.4'></a>\n",
    "## Cuestión 4: Cree el mismo  modelo de manera secuencial. No es necesario compilar ni entrenar el modelo"
   ]
  },
  {
   "cell_type": "code",
   "execution_count": null,
   "id": "auburn-lawrence",
   "metadata": {},
   "outputs": [],
   "source": [
    "model_seq = tf.keras.models.Sequential()\n",
    "# Código aquí\n",
    "..."
   ]
  },
  {
   "cell_type": "markdown",
   "id": "present-consortium",
   "metadata": {},
   "source": [
    "<a name='2.5'></a>\n",
    "## Cuestión 5: Si tenenemos una  una imagen de entrada de 300 x 300 a color (RGB) y queremos usar una red densa. Si la primera capa oculta tiene 100 neuronas, ¿Cuántos parámetros tendrá esa capa (sin incluir el bias) ?\n"
   ]
  },
  {
   "cell_type": "markdown",
   "id": "novel-calcium",
   "metadata": {},
   "source": []
  },
  {
   "cell_type": "markdown",
   "id": "complicated-positive",
   "metadata": {},
   "source": [
    "<a name='2.6'></a>\n",
    "## Cuestión 6   Ponga  las verdaderas ventajas de las redes convolucionales respecto a las densas\n",
    "\n",
    "**a)** Reducen el número total de parámetros, reduciendo así el overfitting.\n",
    "\n",
    "**b)** Permiten utilizar una misma 'función'  en varias localizaciones de la imagen de entrada, en lugar de aprender una función diferente para cada pixel.\n",
    "\n",
    "**c)** Permiten el uso del transfer learning.\n",
    "\n",
    "**d)** Generalmente son menos profundas, lo que facilita su entrenamiento.\n",
    "\n"
   ]
  },
  {
   "cell_type": "markdown",
   "id": "dirty-nirvana",
   "metadata": {},
   "source": []
  }
 ],
 "metadata": {
  "kernelspec": {
   "display_name": "Python 3",
   "language": "python",
   "name": "python3"
  },
  "language_info": {
   "codemirror_mode": {
    "name": "ipython",
    "version": 3
   },
   "file_extension": ".py",
   "mimetype": "text/x-python",
   "name": "python",
   "nbconvert_exporter": "python",
   "pygments_lexer": "ipython3",
   "version": "3.8.8"
  },
  "latex_envs": {
   "LaTeX_envs_menu_present": true,
   "autoclose": false,
   "autocomplete": true,
   "bibliofile": "biblio.bib",
   "cite_by": "apalike",
   "current_citInitial": 1,
   "eqLabelWithNumbers": true,
   "eqNumInitial": 1,
   "hotkeys": {
    "equation": "Ctrl-E",
    "itemize": "Ctrl-I"
   },
   "labels_anchors": false,
   "latex_user_defs": false,
   "report_style_numbering": false,
   "user_envs_cfg": false
  }
 },
 "nbformat": 4,
 "nbformat_minor": 5
}
